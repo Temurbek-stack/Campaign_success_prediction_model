{
 "cells": [
  {
   "cell_type": "code",
   "execution_count": null,
   "id": "fa4ff390",
   "metadata": {},
   "outputs": [],
   "source": []
  },
  {
   "cell_type": "code",
   "execution_count": null,
   "id": "de505ac6",
   "metadata": {},
   "outputs": [
    {
     "name": "stdout",
     "output_type": "stream",
     "text": [
      "Model saved as crm_kpi_predictor.pkl\n"
     ]
    }
   ],
   "source": [
    "import pandas as pd\n",
    "import numpy as np\n",
    "from sklearn.model_selection import train_test_split\n",
    "from sklearn.ensemble import RandomForestRegressor\n",
    "from sklearn.compose import ColumnTransformer\n",
    "from sklearn.pipeline import Pipeline\n",
    "from sklearn.preprocessing import OneHotEncoder\n",
    "import joblib  # for saving the model\n",
    "\n",
    "full_featured_df = pd.read_csv('data/Full_CRM_Campaign_Dataset_with_Shoe_Categories.csv')\n",
    "# Load your full_featured_df (replace this with your actual DataFrame if needed)\n",
    "df = full_featured_df.copy()\n",
    "df = df.drop(columns=['GDPPerCapita'])\n",
    "# Define targets and features\n",
    "targets = ['ROI (%)', 'ConversionRate', 'CTR', 'RevenuePerUser']\n",
    "features = df.columns.difference(targets)\n",
    "\n",
    "X = df[features]\n",
    "y = df[targets]\n",
    "\n",
    "# Separate categorical and numeric columns\n",
    "categorical_cols = X.select_dtypes(include=['object', 'bool']).columns.tolist()\n",
    "numeric_cols = X.select_dtypes(include=['int64', 'float64']).columns.tolist()\n",
    "\n",
    "# Preprocessing pipeline\n",
    "preprocessor = ColumnTransformer([\n",
    "    ('cat', OneHotEncoder(handle_unknown='ignore'), categorical_cols)\n",
    "], remainder='passthrough')\n",
    "\n",
    "# Full modeling pipeline\n",
    "pipeline = Pipeline(steps=[\n",
    "    ('preprocessor', preprocessor),\n",
    "    ('regressor', RandomForestRegressor(n_estimators=100, random_state=42, n_jobs=-1))\n",
    "])\n",
    "\n",
    "# Train-test split (for validation)\n",
    "X_train, X_test, y_train, y_test = train_test_split(X, y, test_size=0.2, random_state=42)\n",
    "\n",
    "# Train the model\n",
    "pipeline.fit(X_train, y_train)\n",
    "\n",
    "# Save the entire pipeline\n",
    "joblib.dump(pipeline, 'crm_kpi_predictor.pkl')\n",
    "print(\"Model saved as crm_kpi_predictor.pkl\")\n"
   ]
  },
  {
   "cell_type": "code",
   "execution_count": 4,
   "id": "f97d22c3",
   "metadata": {},
   "outputs": [
    {
     "data": {
      "text/plain": [
       "Index(['Country', 'Segment', 'Channel', 'CampaignType', 'DiscountValue',\n",
       "       'PersonalizationLevel', 'MarketType', 'DayOfWeek', 'Month', 'IsWeekend',\n",
       "       'ProductCategory', 'DiscountType', 'LanguageStyle', 'VisualIntensity',\n",
       "       'IsRetargeting', 'IsExclusive', 'GDPPerCapita', 'AvgCustomerAge',\n",
       "       'GenderFemaleRatio', 'Impressions', 'ROI (%)', 'ConversionRate', 'CTR',\n",
       "       'RevenuePerUser'],\n",
       "      dtype='object')"
      ]
     },
     "execution_count": 4,
     "metadata": {},
     "output_type": "execute_result"
    }
   ],
   "source": [
    "import pandas as pd\n",
    "import numpy as np\n",
    "from sklearn.model_selection import train_test_split\n",
    "from sklearn.ensemble import RandomForestRegressor\n",
    "from sklearn.compose import ColumnTransformer\n",
    "from sklearn.pipeline import Pipeline\n",
    "from sklearn.preprocessing import OneHotEncoder\n",
    "import joblib  # for saving the model\n",
    "\n",
    "full_featured_df = pd.read_csv('Full_CRM_Campaign_Dataset_with_Shoe_Categories.csv')\n",
    "full_featured_df.columns"
   ]
  }
 ],
 "metadata": {
  "kernelspec": {
   "display_name": "base",
   "language": "python",
   "name": "python3"
  },
  "language_info": {
   "codemirror_mode": {
    "name": "ipython",
    "version": 3
   },
   "file_extension": ".py",
   "mimetype": "text/x-python",
   "name": "python",
   "nbconvert_exporter": "python",
   "pygments_lexer": "ipython3",
   "version": "3.11.5"
  }
 },
 "nbformat": 4,
 "nbformat_minor": 5
}
